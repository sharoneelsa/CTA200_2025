{
 "cells": [
  {
   "cell_type": "markdown",
   "id": "f7421448",
   "metadata": {},
   "source": [
    "# CTA200: Assignment 3"
   ]
  },
  {
   "cell_type": "markdown",
   "id": "a989df18",
   "metadata": {},
   "source": [
    " **Question 1**"
   ]
  },
  {
   "cell_type": "code",
   "execution_count": null,
   "id": "ece12369",
   "metadata": {},
   "outputs": [],
   "source": [
    "# Importing all the necessary functions and libraries for question 1\n",
    "import matplotlib.pyplot as plt\n",
    "import numpy as np\n",
    "from assignment_3_functions import complex_function2\n",
    "\n",
    "\n",
    "iters = complex_function2() # all parameters are taken as default in the function. \n",
    "\n",
    "\n",
    "# The two plots\n",
    "plt.figure(figsize=(6, 4))\n",
    "plt.imshow(iters == -1, cmap='viridis', extent=[-2, 2, -2, 2])\n",
    "plt.title(\"Bound (yellow) vs Diverged (purple)\")\n",
    "plt.xlabel(\"Real Axis\")\n",
    "plt.ylabel(\"Imaginary Axis\")\n",
    "plt.colorbar(label='Diverged (purple) or Bounded (yellow)')\n",
    "plt.savefig(\"question1fig1.pdf\")\n",
    "plt.show()\n",
    "\n",
    "bound = iters.astype(float) # since np.nan is a float, I replace all points that dont divege from -1 to np.nan\n",
    "bound[bound == -1] = np.nan # skipping all the bounded points just for plotting, they were initially saved as -1. \n",
    "\n",
    "plt.figure(figsize=(6, 4))\n",
    "plt.imshow(iters, cmap = 'plasma', extent = [-2, 2, -2, 2])\n",
    "plt.title(\"How many Iterations before Divergence\")\n",
    "plt.xlabel(\"Real Axis\")\n",
    "plt.ylabel(\"Imaginary Axis\")\n",
    "plt.colorbar(label= 'Iterations')\n",
    "plt.savefig(\"question1fig2.pdf\")\n",
    "plt.show()\n",
    "\n"
   ]
  },
  {
   "cell_type": "markdown",
   "id": "efad4614",
   "metadata": {},
   "source": [
    "**Question 2**"
   ]
  },
  {
   "cell_type": "code",
   "execution_count": null,
   "id": "96b3b083",
   "metadata": {},
   "outputs": [],
   "source": [
    "# Importing relevant functions for question 2\n",
    "from assignment_3_functions import lorentz_sys, lorentz_ivp_solver\n",
    "\n",
    "# Solving the Lorentz System using scipy method: ivp_solver()\n",
    "W0 = [0., 1., 0.]\n",
    "sol = lorentz_ivp_solver(lorentz_sys, W0, ti=0, tf=60)\n",
    "\n",
    "# grabbing the solutions\n",
    "t_sol = sol.t\n",
    "X_sol = sol.y[0]\n",
    "Y_sol = sol.y[1]\n",
    "Z_sol = sol.y[2]\n"
   ]
  },
  {
   "cell_type": "code",
   "execution_count": null,
   "id": "253c972f",
   "metadata": {},
   "outputs": [],
   "source": [
    "# To create the same plot as Lorentz Figure 1\n",
    "t = np.linspace(0, 1000, 1000)  # We want every 1000 iteration\n",
    "\n",
    "fig, axs = plt.subplots(3, 1, figsize=(8, 5), sharex = True)\n",
    "\n",
    "# Taking every 1000 iterations \n",
    "axs[0].plot(t, Y_sol[:1000])\n",
    "axs[1].plot(t, Y_sol[1000:2000])\n",
    "axs[2].plot(t, Y_sol[2000:3000])\n",
    "\n",
    "axs[0].set_title(\"The first 1000 iters\", fontsize = 8)\n",
    "axs[1].set_title(\"The Second 1000 iters\", fontsize = 8)\n",
    "axs[2].set_title(\" The Third 1000 iters\", fontsize = 8)\n",
    "\n",
    "axs[0].set_ylabel(\"Y\")\n",
    "axs[1].set_ylabel(\"Y\") \n",
    "axs[2].set_ylabel(\"Y\")\n",
    "\n",
    "\n",
    "axs[2].set_xlabel(\"Iterations\", fontsize = 12)\n",
    "\n",
    "fig.suptitle(\"Lorenz Paper Figure 1\", fontsize = 12)\n",
    "plt.savefig(\"question2fig1.pdf\")\n",
    "plt.show()"
   ]
  },
  {
   "cell_type": "code",
   "execution_count": null,
   "id": "abcff8a4",
   "metadata": {},
   "outputs": [],
   "source": [
    "# Plotting Figure 2 from Lorentz\n",
    "# First I need to solve the system where t is from 0 to 14\n",
    "initial = lorentz_ivp_solver(lorentz_sys, W0, ti = 0, tf = 14)\n",
    "\n",
    "# Now that we have the solution at t = 14\n",
    "W_14 = initial.sol(14) \n",
    "\n",
    "# Solve for the range in the paper (iterations 1400 - 1900) or 14 - 19\n",
    "W_14_to_19 = lorentz_ivp_solver(lorentz_sys, W_14, ti = 14, tf = 19)\n",
    "t = np.linspace(14, 19, 1000)\n",
    "X, Y, Z = W_14_to_19.sol(t)\n",
    "\n",
    "fig, axs = plt.subplots(1, 2, figsize=(12, 5))\n",
    "\n",
    "# X-Y projection\n",
    "axs[0].plot(X, Y)\n",
    "axs[0].set_xlabel('X')\n",
    "axs[0].set_ylabel('Y')\n",
    "axs[0].set_title('X-Y Plane')\n",
    "\n",
    "# Y-Z projection\n",
    "axs[1].plot(Y, Z)\n",
    "axs[1].set_xlabel('Y')\n",
    "axs[1].set_ylabel('Z')\n",
    "axs[1].set_title('Y-Z Plane')\n",
    "\n",
    "fig.suptitle(\"Lorenz Paper Figure 2\", fontsize = 12)\n",
    "plt.savefig(\"question2fig2.pdf\")\n",
    "\n",
    "\n",
    "plt.show()"
   ]
  },
  {
   "cell_type": "code",
   "execution_count": null,
   "id": "491ffe9d",
   "metadata": {},
   "outputs": [],
   "source": [
    "# Different initial condtions and showing that slight changed in the initial conditions will throw the solution off\n",
    "\n",
    "# New initial condition\n",
    "W0_prime = np.array(W0) + np.array([0., 1e-8, 0.])\n",
    "print(W0_prime)\n",
    "\n",
    "\n",
    "t = np.linspace(0, 1000, 1000) \n",
    "\n",
    "# the two solutions\n",
    "sol1 = lorentz_ivp_solver(lorentz_sys, W0, ti = 0, tf = 60)\n",
    "sol2 = lorentz_ivp_solver(lorentz_sys, W0_prime, ti = 0, tf = 60)\n",
    "\n",
    "# grabbing the solutions\n",
    "W = sol1.y\n",
    "W_prime = sol2.y\n",
    "t = sol1.t\n",
    "\n",
    "# computing the distance between two points\n",
    "distances = np.sqrt((W[0] - W_prime[0]) ** 2 + (W[1] - W_prime[1]) ** 2 + (W[2] - W_prime[2]) ** 2)\n",
    "\n",
    "plt.figure(figsize=(7, 5))\n",
    "plt.plot(t, distances)\n",
    "plt.yscale('log') # setting distance to log scale\n",
    "\n",
    "plt.ylabel('Distance between two solutions (log)')\n",
    "plt.xlabel('Time')\n",
    "plt.title('Divergence of Slightly Different Initial Conditions')\n",
    "plt.savefig(\"question2fig3.pdf\")\n",
    "plt.show()\n"
   ]
  }
 ],
 "metadata": {
  "kernelspec": {
   "display_name": ".venv",
   "language": "python",
   "name": "python3"
  },
  "language_info": {
   "codemirror_mode": {
    "name": "ipython",
    "version": 3
   },
   "file_extension": ".py",
   "mimetype": "text/x-python",
   "name": "python",
   "nbconvert_exporter": "python",
   "pygments_lexer": "ipython3",
   "version": "3.11.9"
  }
 },
 "nbformat": 4,
 "nbformat_minor": 5
}
