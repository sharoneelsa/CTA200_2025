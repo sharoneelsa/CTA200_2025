{
 "cells": [
  {
   "cell_type": "markdown",
   "id": "8ef64408",
   "metadata": {},
   "source": [
    "# CTA200: Assignment 2"
   ]
  },
  {
   "cell_type": "markdown",
   "id": "2b0bc267",
   "metadata": {},
   "source": [
    "**Part 1** \n",
    "Write a python function for the function and its derivative"
   ]
  },
  {
   "cell_type": "code",
   "execution_count": 43,
   "id": "4d34407f",
   "metadata": {},
   "outputs": [],
   "source": [
    "def f(x):\n",
    "    \"\"\"\n",
    "    This functions the value of f(x) = x ^ 3 - x ^ 2 - 1. \n",
    "    Parameters:\n",
    "    x (int, float, array): The value at which to ealuate function \n",
    "\n",
    "    Returns:\n",
    "    f(x) (int, float, array): The result of applying the function\n",
    "    \"\"\"\n",
    "    \n",
    "    return x ** 3 - x ** 2 - 1\n",
    "\n",
    "def df(x):\n",
    "    \"\"\"\n",
    "    This function computes the derivative of f(x) = x^3 - x^2 - 1.\n",
    "    Parameters:\n",
    "    x (int, float, array): The value at which to evaluate the derivative.\n",
    "    \n",
    "    Returns:\n",
    "    f'(x) (int, float, array): The value of the derivative 3x^2 - 2x.\n",
    "    \"\"\"\n",
    "\n",
    "    return 3 * x ** 2 - 2 * x"
   ]
  },
  {
   "cell_type": "markdown",
   "id": "4d12acba",
   "metadata": {},
   "source": [
    "**Part 2**  Write a function that performs Newton Iteration to find the root of a function. "
   ]
  },
  {
   "cell_type": "code",
   "execution_count": 44,
   "id": "3e3f5b14",
   "metadata": {},
   "outputs": [],
   "source": [
    "def newton(f, df, x0, epsilon = 1e-6, max_iter = 30):\n",
    "    \"\"\" \n",
    "    This function will perform the Newton Method to find the root of a function a\n",
    "    nd print the number of iteratios it took if found or print an error message\n",
    "\n",
    "Parameters:\n",
    "f (function): THe function to find the root for\n",
    "df(function): The derivative of f\n",
    "x0 (int, float): The initial guess for the root\n",
    "epsilon (float, int): The iterations stops when f(x) < epsilon. \n",
    "max_iter (int): Maximum number of iterations to perform\n",
    "\n",
    "Returns: \n",
    "root (float, None): The root will be returned if algorithim was successful, else it \n",
    "will return None\n",
    "    \"\"\"\n",
    "\n",
    "    i = 0\n",
    "    xn = x0\n",
    "    while i < max_iter and abs(f(xn)) >= epsilon:\n",
    "        xn = xn - f(xn)/ df(xn)\n",
    "        i += 1\n",
    "    \n",
    "    if abs(f(xn)) < epsilon:\n",
    "        print(f'Found root in <{i}> iterations')\n",
    "        return xn\n",
    "    \n",
    "    else:\n",
    "        print(\"Iteration failed\")\n",
    "        return\n",
    "      "
   ]
  },
  {
   "cell_type": "markdown",
   "id": "a42ba152",
   "metadata": {},
   "source": [
    "**Part 3**: Trying newton function with different x0 and also reducing epsilon yo 1e-8"
   ]
  },
  {
   "cell_type": "code",
   "execution_count": 45,
   "id": "59185218",
   "metadata": {},
   "outputs": [
    {
     "name": "stdout",
     "output_type": "stream",
     "text": [
      "Found root in <5> iterations\n",
      "1.4655713749070918\n"
     ]
    }
   ],
   "source": [
    "print(newton(f,df, 1))"
   ]
  },
  {
   "cell_type": "code",
   "execution_count": 46,
   "id": "28b4137e",
   "metadata": {},
   "outputs": [
    {
     "name": "stdout",
     "output_type": "stream",
     "text": [
      "Found root in <20> iterations\n",
      "1.4655713974990228\n"
     ]
    }
   ],
   "source": [
    "print(newton(f,df, 1000))"
   ]
  },
  {
   "cell_type": "markdown",
   "id": "8e2239ef",
   "metadata": {},
   "source": [
    "Now reducing epsilon to 1e-8, the same calculations are shown below. With a different epsilon, it takes longer to find the roots with the same initial guess as previous epsilon. "
   ]
  },
  {
   "cell_type": "code",
   "execution_count": 47,
   "id": "c365add0",
   "metadata": {},
   "outputs": [
    {
     "name": "stdout",
     "output_type": "stream",
     "text": [
      "Found root in <6> iterations\n",
      "1.4655712318767877\n"
     ]
    }
   ],
   "source": [
    "print(newton(f,df, 1, epsilon = 1e-8))"
   ]
  },
  {
   "cell_type": "code",
   "execution_count": 48,
   "id": "89cccdc0",
   "metadata": {},
   "outputs": [
    {
     "name": "stdout",
     "output_type": "stream",
     "text": [
      "Found root in <21> iterations\n",
      "1.4655712318767944\n"
     ]
    }
   ],
   "source": [
    "print(newton(f,df, 1000, epsilon = 1e-8))"
   ]
  }
 ],
 "metadata": {
  "kernelspec": {
   "display_name": ".venv",
   "language": "python",
   "name": "python3"
  },
  "language_info": {
   "codemirror_mode": {
    "name": "ipython",
    "version": 3
   },
   "file_extension": ".py",
   "mimetype": "text/x-python",
   "name": "python",
   "nbconvert_exporter": "python",
   "pygments_lexer": "ipython3",
   "version": "3.11.9"
  }
 },
 "nbformat": 4,
 "nbformat_minor": 5
}
